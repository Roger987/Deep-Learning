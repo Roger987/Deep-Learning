{
 "cells": [
  {
   "cell_type": "markdown",
   "source": [
    "[![Google Colab](https://colab.research.google.com/assets/colab-badge.svg)](https://colab.research.google.com/github/idealo/image-super-resolution/blob/master/notebooks/ISR_Training_Tutorial.ipynb)"
   ],
   "metadata": {}
  },
  {
   "cell_type": "markdown",
   "source": [
    "# Install ISR"
   ],
   "metadata": {
    "colab_type": "text",
    "id": "QJ4sSTzDWAao"
   }
  },
  {
   "cell_type": "code",
   "execution_count": 1,
   "source": [
    "!pip install ISR"
   ],
   "outputs": [
    {
     "output_type": "stream",
     "name": "stdout",
     "text": [
      "/usr/lib/python3/dist-packages/secretstorage/dhcrypto.py:15: CryptographyDeprecationWarning: int_from_bytes is deprecated, use int.from_bytes instead\n",
      "  from cryptography.utils import int_from_bytes\n",
      "/usr/lib/python3/dist-packages/secretstorage/util.py:19: CryptographyDeprecationWarning: int_from_bytes is deprecated, use int.from_bytes instead\n",
      "  from cryptography.utils import int_from_bytes\n",
      "Requirement already satisfied: ISR in /usr/local/lib/python3.8/dist-packages/ISR-2.2.0-py3.8.egg (2.2.0)\n",
      "Requirement already satisfied: h5py==2.10.0 in /home/roger/.local/lib/python3.8/site-packages (from ISR) (2.10.0)\n",
      "Requirement already satisfied: imageio in /usr/local/lib/python3.8/dist-packages/imageio-2.9.0-py3.8.egg (from ISR) (2.9.0)\n",
      "Requirement already satisfied: numpy in /home/roger/.local/lib/python3.8/site-packages (from ISR) (1.19.3)\n",
      "Requirement already satisfied: pyaml in /usr/local/lib/python3.8/dist-packages/pyaml-21.8.3-py3.8.egg (from ISR) (21.8.3)\n",
      "Requirement already satisfied: tensorflow==2.* in /home/roger/.local/lib/python3.8/site-packages (from ISR) (2.6.0)\n",
      "Requirement already satisfied: tqdm in /home/roger/.local/lib/python3.8/site-packages (from ISR) (4.61.0)\n",
      "Requirement already satisfied: six in /home/roger/.local/lib/python3.8/site-packages (from h5py==2.10.0->ISR) (1.15.0)\n",
      "Requirement already satisfied: pillow in /usr/lib/python3/dist-packages (from imageio->ISR) (7.0.0)\n",
      "Requirement already satisfied: PyYAML in /home/roger/.local/lib/python3.8/site-packages (from pyaml->ISR) (5.4.1)\n",
      "Requirement already satisfied: grpcio<2.0,>=1.37.0 in /home/roger/.local/lib/python3.8/site-packages (from tensorflow==2.*->ISR) (1.40.0)\n",
      "Requirement already satisfied: keras~=2.6 in /home/roger/.local/lib/python3.8/site-packages (from tensorflow==2.*->ISR) (2.6.0)\n",
      "Requirement already satisfied: protobuf>=3.9.2 in /home/roger/.local/lib/python3.8/site-packages (from tensorflow==2.*->ISR) (3.17.3)\n",
      "Requirement already satisfied: typing-extensions~=3.7.4 in /home/roger/.local/lib/python3.8/site-packages (from tensorflow==2.*->ISR) (3.7.4.3)\n",
      "Requirement already satisfied: opt-einsum~=3.3.0 in /home/roger/.local/lib/python3.8/site-packages (from tensorflow==2.*->ISR) (3.3.0)\n",
      "Requirement already satisfied: astunparse~=1.6.3 in /home/roger/.local/lib/python3.8/site-packages (from tensorflow==2.*->ISR) (1.6.3)\n",
      "Requirement already satisfied: absl-py~=0.10 in /home/roger/.local/lib/python3.8/site-packages (from tensorflow==2.*->ISR) (0.13.0)\n",
      "Requirement already satisfied: termcolor~=1.1.0 in /home/roger/.local/lib/python3.8/site-packages (from tensorflow==2.*->ISR) (1.1.0)\n",
      "Requirement already satisfied: tensorboard~=2.6 in /home/roger/.local/lib/python3.8/site-packages (from tensorflow==2.*->ISR) (2.6.0)\n",
      "Requirement already satisfied: tensorflow-estimator~=2.6 in /home/roger/.local/lib/python3.8/site-packages (from tensorflow==2.*->ISR) (2.6.0)\n",
      "Requirement already satisfied: clang~=5.0 in /home/roger/.local/lib/python3.8/site-packages (from tensorflow==2.*->ISR) (5.0)\n",
      "Requirement already satisfied: wrapt~=1.12.1 in /home/roger/.local/lib/python3.8/site-packages (from tensorflow==2.*->ISR) (1.12.1)\n",
      "Requirement already satisfied: keras-preprocessing~=1.1.2 in /home/roger/.local/lib/python3.8/site-packages (from tensorflow==2.*->ISR) (1.1.2)\n",
      "Requirement already satisfied: wheel~=0.35 in /home/roger/.local/lib/python3.8/site-packages (from tensorflow==2.*->ISR) (0.37.0)\n",
      "Requirement already satisfied: gast==0.4.0 in /home/roger/.local/lib/python3.8/site-packages (from tensorflow==2.*->ISR) (0.4.0)\n",
      "Requirement already satisfied: flatbuffers~=1.12.0 in /home/roger/.local/lib/python3.8/site-packages (from tensorflow==2.*->ISR) (1.12)\n",
      "Requirement already satisfied: google-pasta~=0.2 in /home/roger/.local/lib/python3.8/site-packages (from tensorflow==2.*->ISR) (0.2.0)\n",
      "Requirement already satisfied: markdown>=2.6.8 in /home/roger/.local/lib/python3.8/site-packages (from tensorboard~=2.6->tensorflow==2.*->ISR) (3.3.4)\n",
      "Requirement already satisfied: requests<3,>=2.21.0 in /usr/lib/python3/dist-packages (from tensorboard~=2.6->tensorflow==2.*->ISR) (2.22.0)\n",
      "Requirement already satisfied: setuptools>=41.0.0 in /usr/lib/python3/dist-packages (from tensorboard~=2.6->tensorflow==2.*->ISR) (45.2.0)\n",
      "Requirement already satisfied: tensorboard-data-server<0.7.0,>=0.6.0 in /home/roger/.local/lib/python3.8/site-packages (from tensorboard~=2.6->tensorflow==2.*->ISR) (0.6.1)\n",
      "Requirement already satisfied: google-auth-oauthlib<0.5,>=0.4.1 in /home/roger/.local/lib/python3.8/site-packages (from tensorboard~=2.6->tensorflow==2.*->ISR) (0.4.6)\n",
      "Requirement already satisfied: tensorboard-plugin-wit>=1.6.0 in /home/roger/.local/lib/python3.8/site-packages (from tensorboard~=2.6->tensorflow==2.*->ISR) (1.8.0)\n",
      "Requirement already satisfied: google-auth<2,>=1.6.3 in /home/roger/.local/lib/python3.8/site-packages (from tensorboard~=2.6->tensorflow==2.*->ISR) (1.30.1)\n",
      "Requirement already satisfied: werkzeug>=0.11.15 in /home/roger/.local/lib/python3.8/site-packages (from tensorboard~=2.6->tensorflow==2.*->ISR) (1.0.1)\n",
      "Requirement already satisfied: requests-oauthlib>=0.7.0 in /home/roger/.local/lib/python3.8/site-packages (from google-auth-oauthlib<0.5,>=0.4.1->tensorboard~=2.6->tensorflow==2.*->ISR) (1.3.0)\n",
      "Requirement already satisfied: rsa<5,>=3.1.4; python_version >= \"3.6\" in /home/roger/.local/lib/python3.8/site-packages (from google-auth<2,>=1.6.3->tensorboard~=2.6->tensorflow==2.*->ISR) (4.7.2)\n",
      "Requirement already satisfied: cachetools<5.0,>=2.0.0 in /home/roger/.local/lib/python3.8/site-packages (from google-auth<2,>=1.6.3->tensorboard~=2.6->tensorflow==2.*->ISR) (4.2.2)\n",
      "Requirement already satisfied: pyasn1-modules>=0.2.1 in /home/roger/.local/lib/python3.8/site-packages (from google-auth<2,>=1.6.3->tensorboard~=2.6->tensorflow==2.*->ISR) (0.2.8)\n",
      "Requirement already satisfied: oauthlib>=3.0.0 in /usr/lib/python3/dist-packages (from requests-oauthlib>=0.7.0->google-auth-oauthlib<0.5,>=0.4.1->tensorboard~=2.6->tensorflow==2.*->ISR) (3.1.0)\n",
      "Requirement already satisfied: pyasn1>=0.1.3 in /home/roger/.local/lib/python3.8/site-packages (from rsa<5,>=3.1.4; python_version >= \"3.6\"->google-auth<2,>=1.6.3->tensorboard~=2.6->tensorflow==2.*->ISR) (0.4.8)\n"
     ]
    }
   ],
   "metadata": {
    "colab": {},
    "colab_type": "code",
    "id": "KCd2ZuS4V6Z0"
   }
  },
  {
   "cell_type": "markdown",
   "source": [
    "# Train"
   ],
   "metadata": {
    "colab_type": "text",
    "id": "R_BXVVxnN1sx"
   }
  },
  {
   "cell_type": "markdown",
   "source": [
    "\n",
    "## Get the training data\n",
    "Get your data to train the model. The div2k dataset linked here is for a scaling factor of 2. Beware of this later when training the model.\n",
    "\n",
    "(for more options on how to get you data on Colab notebooks visit https://colab.research.google.com/notebooks/io.ipynb)"
   ],
   "metadata": {
    "colab_type": "text",
    "id": "aJCKjYk-MA-p"
   }
  },
  {
   "cell_type": "code",
   "execution_count": 5,
   "source": [
    "!wget http://data.vision.ee.ethz.ch/cvl/DIV2K/DIV2K_train_LR_bicubic_X2.zip\n",
    "!wget http://data.vision.ee.ethz.ch/cvl/DIV2K/DIV2K_valid_LR_bicubic_X2.zip\n",
    "!wget http://data.vision.ee.ethz.ch/cvl/DIV2K/DIV2K_train_HR.zip\n",
    "!wget http://data.vision.ee.ethz.ch/cvl/DIV2K/DIV2K_valid_HR.zip"
   ],
   "outputs": [
    {
     "output_type": "stream",
     "name": "stdout",
     "text": [
      "--2021-09-14 17:42:27--  http://data.vision.ee.ethz.ch/cvl/DIV2K/DIV2K_train_LR_bicubic_X2.zip\n",
      "Resolvendo data.vision.ee.ethz.ch (data.vision.ee.ethz.ch)... 2001:67c:10ec:36c2::178, 129.132.52.178\n",
      "Conectando-se a data.vision.ee.ethz.ch (data.vision.ee.ethz.ch)|2001:67c:10ec:36c2::178|:80... conectado.\n",
      "A requisição HTTP foi enviada, aguardando resposta... 302 Found\n",
      "Localização: https://data.vision.ee.ethz.ch/cvl/DIV2K/DIV2K_train_LR_bicubic_X2.zip [redirecionando]\n",
      "--2021-09-14 17:42:29--  https://data.vision.ee.ethz.ch/cvl/DIV2K/DIV2K_train_LR_bicubic_X2.zip\n",
      "Conectando-se a data.vision.ee.ethz.ch (data.vision.ee.ethz.ch)|2001:67c:10ec:36c2::178|:443... conectado.\n",
      "A requisição HTTP foi enviada, aguardando resposta... 200 OK\n",
      "Tamanho: 925390592 (883M) [application/zip]\n",
      "Salvando em: “DIV2K_train_LR_bicubic_X2.zip”\n",
      "\n",
      "V2K_train_LR_bicubi  65%[============>       ] 579,65M   126KB/s    TED 31m 11s"
     ]
    }
   ],
   "metadata": {
    "colab": {},
    "colab_type": "code",
    "id": "ytGnfdDo77l-"
   }
  },
  {
   "cell_type": "code",
   "execution_count": 5,
   "source": [
    "!mkdir div2k\n",
    "!unzip -q DIV2K_valid_LR_bicubic_X2.zip -d div2k\n",
    "!unzip -q DIV2K_train_LR_bicubic_X2.zip -d div2k\n",
    "!unzip -q DIV2K_train_HR.zip -d div2k\n",
    "!unzip -q DIV2K_valid_HR.zip -d div2k"
   ],
   "outputs": [
    {
     "output_type": "stream",
     "name": "stdout",
     "text": [
      "mkdir: não foi possível criar o diretório “div2k”: Arquivo existe\n"
     ]
    }
   ],
   "metadata": {
    "colab": {},
    "colab_type": "code",
    "id": "CMUgC2k21lC9"
   }
  },
  {
   "cell_type": "markdown",
   "source": [
    "## Create the models\n",
    "Import the models from the ISR package and create\n",
    "\n",
    "- a RRDN super scaling network\n",
    "- a discriminator network for GANs training\n",
    "- a VGG19 feature extractor to train with a perceptual loss function\n",
    "\n",
    "Carefully select\n",
    "- 'x': this is the upscaling factor (2 by default)\n",
    "- 'layers_to_extract': these are the layers from the VGG19 that will be used in the perceptual loss (leave the default if you're not familiar with it)\n",
    "- 'lr_patch_size': this is the size of the patches that will be extracted from the LR images and fed to the ISR network during training time\n",
    "\n",
    "Play around with the other architecture parameters"
   ],
   "metadata": {
    "colab_type": "text",
    "id": "LeNFEtJeNKTj"
   }
  },
  {
   "cell_type": "code",
   "execution_count": 6,
   "source": [
    "from ISR.models import RRDN\n",
    "from ISR.models import Discriminator\n",
    "from ISR.models import Cut_VGG19"
   ],
   "outputs": [],
   "metadata": {
    "colab": {
     "base_uri": "https://localhost:8080/",
     "height": 34
    },
    "colab_type": "code",
    "id": "8e2RSZq4BY_T",
    "outputId": "71efc07e-be9d-4796-bc24-6ce4c5285330"
   }
  },
  {
   "cell_type": "code",
   "execution_count": 7,
   "source": [
    "lr_train_patch_size = 40\n",
    "layers_to_extract = [5, 9]\n",
    "scale = 2\n",
    "hr_train_patch_size = lr_train_patch_size * scale\n",
    "\n",
    "rrdn  = RRDN(arch_params={'C':4, 'D':3, 'G':64, 'G0':64, 'T':10, 'x':scale}, patch_size=lr_train_patch_size)\n",
    "f_ext = Cut_VGG19(patch_size=hr_train_patch_size, layers_to_extract=layers_to_extract)\n",
    "discr = Discriminator(patch_size=hr_train_patch_size, kernel_size=3)"
   ],
   "outputs": [
    {
     "output_type": "stream",
     "name": "stderr",
     "text": [
      "2021-09-15 05:40:14.522160: W tensorflow/stream_executor/platform/default/dso_loader.cc:64] Could not load dynamic library 'libcuda.so.1'; dlerror: libcuda.so.1: cannot open shared object file: No such file or directory\n",
      "2021-09-15 05:40:14.522212: W tensorflow/stream_executor/cuda/cuda_driver.cc:269] failed call to cuInit: UNKNOWN ERROR (303)\n",
      "2021-09-15 05:40:14.522243: I tensorflow/stream_executor/cuda/cuda_diagnostics.cc:156] kernel driver does not appear to be running on this host (roger-A52-LIV): /proc/driver/nvidia/version does not exist\n",
      "2021-09-15 05:40:14.522782: I tensorflow/core/platform/cpu_feature_guard.cc:142] This TensorFlow binary is optimized with oneAPI Deep Neural Network Library (oneDNN) to use the following CPU instructions in performance-critical operations:  AVX2 FMA\n",
      "To enable them in other operations, rebuild TensorFlow with the appropriate compiler flags.\n"
     ]
    }
   ],
   "metadata": {
    "colab": {
     "base_uri": "https://localhost:8080/",
     "height": 88
    },
    "colab_type": "code",
    "id": "celHq8FjB5vA",
    "outputId": "150bf398-c71f-4c0b-fc88-2918b32daa29"
   }
  },
  {
   "cell_type": "markdown",
   "source": [
    "## Give the models to the Trainer\n",
    "The Trainer object will combine the networks, manage your training data and keep you up-to-date with the training progress through Tensorboard and the command line.\n",
    "\n",
    "Here we do not use  the pixel-wise MSE but only the perceptual loss by specifying the respective weights in `loss_weights`"
   ],
   "metadata": {
    "colab_type": "text",
    "id": "aaXfv12EPzal"
   }
  },
  {
   "cell_type": "code",
   "execution_count": 8,
   "source": [
    "from ISR.train import Trainer\n",
    "loss_weights = {\n",
    "  'generator': 0.0,\n",
    "  'feature_extractor': 0.0833,\n",
    "  'discriminator': 0.01\n",
    "}\n",
    "losses = {\n",
    "  'generator': 'mae',\n",
    "  'feature_extractor': 'mse',\n",
    "  'discriminator': 'binary_crossentropy'\n",
    "} \n",
    "\n",
    "log_dirs = {'logs': './logs', 'weights': './weights'}\n",
    "\n",
    "learning_rate = {'initial_value': 0.0004, 'decay_factor': 0.5, 'decay_frequency': 30}\n",
    "\n",
    "flatness = {'min': 0.0, 'max': 0.15, 'increase': 0.01, 'increase_frequency': 5}\n",
    "\n",
    "trainer = Trainer(\n",
    "    generator=rrdn,\n",
    "    discriminator=discr,\n",
    "    feature_extractor=f_ext,\n",
    "    lr_train_dir='div2k/DIV2K_train_LR_bicubic/X2/',\n",
    "    hr_train_dir='div2k/DIV2K_train_HR/',\n",
    "    lr_valid_dir='div2k/DIV2K_train_LR_bicubic/X2/',\n",
    "    hr_valid_dir='div2k/DIV2K_train_HR/',\n",
    "    loss_weights=loss_weights,\n",
    "    learning_rate=learning_rate,\n",
    "    flatness=flatness,\n",
    "    dataname='div2k',\n",
    "    log_dirs=log_dirs,\n",
    "    weights_generator=None,\n",
    "    weights_discriminator=None,\n",
    "    n_validation=40,\n",
    ")\n"
   ],
   "outputs": [
    {
     "output_type": "stream",
     "name": "stderr",
     "text": [
      "/home/roger/.local/lib/python3.8/site-packages/keras/optimizer_v2/optimizer_v2.py:355: UserWarning: The `lr` argument is deprecated, use `learning_rate` instead.\n",
      "  warnings.warn(\n"
     ]
    }
   ],
   "metadata": {
    "colab": {},
    "colab_type": "code",
    "id": "6AV0m-s8OaqI"
   }
  },
  {
   "cell_type": "markdown",
   "source": [
    "Choose epoch number, steps and batch size and start training"
   ],
   "metadata": {
    "colab_type": "text",
    "id": "5UpepsY77r5M"
   }
  },
  {
   "cell_type": "code",
   "execution_count": 9,
   "source": [
    "trainer.train(\n",
    "    epochs=1,\n",
    "    steps_per_epoch=20,\n",
    "    batch_size=4,\n",
    "    monitored_metrics={'val_generator_PSNR_Y': 'max'}\n",
    ")"
   ],
   "outputs": [
    {
     "output_type": "stream",
     "name": "stderr",
     "text": [
      "\n",
      "Training details:\n",
      "  training_parameters: \n",
      "    lr_train_dir: div2k/DIV2K_train_LR_bicubic/X2/\n",
      "    hr_train_dir: div2k/DIV2K_train_HR/\n",
      "    lr_valid_dir: div2k/DIV2K_train_LR_bicubic/X2/\n",
      "    hr_valid_dir: div2k/DIV2K_train_HR/\n",
      "    loss_weights: {'generator': 0.0, 'feature_extractor': 0.0833, 'discriminator': 0.01}\n",
      "    log_dirs: {'logs': './logs', 'weights': './weights'}\n",
      "    fallback_save_every_n_epochs: 2\n",
      "    dataname: div2k\n",
      "    n_validation: 40\n",
      "    flatness: {'min': 0.0, 'max': 0.15, 'increase': 0.01, 'increase_frequency': 5}\n",
      "    learning_rate: {'initial_value': 0.0004, 'decay_factor': 0.5, 'decay_frequency': 30}\n",
      "    adam_optimizer: {'beta1': 0.9, 'beta2': 0.999, 'epsilon': None}\n",
      "    losses: {'generator': 'mae', 'discriminator': 'binary_crossentropy', 'feature_extractor': 'mse'}\n",
      "    metrics: {'generator': <function PSNR_Y at 0x7f5054bf64c0>}\n",
      "    lr_patch_size: 40\n",
      "    steps_per_epoch: 20\n",
      "    batch_size: 4\n",
      "    starting_epoch: 0\n",
      "  generator: \n",
      "    name: rrdn\n",
      "    parameters: {'C': 4, 'D': 3, 'G': 64, 'G0': 64, 'T': 10, 'x': 2}\n",
      "    weights_generator: None\n",
      "  discriminator: \n",
      "    name: srgan-large\n",
      "    weights_discriminator: None\n",
      "  feature_extractor: \n",
      "    name: vgg19\n",
      "    layers: [5, 9]\n",
      "2021-09-15 05:40:22.143075: I tensorflow/core/profiler/lib/profiler_session.cc:131] Profiler session initializing.\n",
      "2021-09-15 05:40:22.143104: I tensorflow/core/profiler/lib/profiler_session.cc:146] Profiler session started.\n",
      "2021-09-15 05:40:22.143883: I tensorflow/core/profiler/lib/profiler_session.cc:164] Profiler session tear down.\n",
      "/home/roger/.local/lib/python3.8/site-packages/keras/utils/generic_utils.py:494: CustomMaskWarning: Custom mask layers require a config and must override get_config. When loading, the custom mask layer must be passed to the custom_objects argument.\n",
      "  warnings.warn('Custom mask layers require a config and must override '\n",
      "2021-09-15 05:40:27.409190: I tensorflow/compiler/mlir/mlir_graph_optimization_pass.cc:185] None of the MLIR Optimization Passes are enabled (registered 2)\n",
      "Epoch 0/1\n",
      "Current learning rate: 0.00039999998989515007\n",
      "100%|██████████| 20/20 [02:37<00:00,  7.88s/it]\n",
      "Epoch 0 took      157.6s\n"
     ]
    },
    {
     "output_type": "stream",
     "name": "stdout",
     "text": [
      "40/40 [==============================] - 40s 977ms/step - loss: 0.8708 - generator_loss: 0.4115 - discriminator_loss: 0.0013 - feature_extractor_loss: 3.6231 - feature_extractor_1_loss: 17.2845 - generator_PSNR_Y: 8.3425\n"
     ]
    },
    {
     "output_type": "stream",
     "name": "stderr",
     "text": [
      "{'val_loss': 0.8708183169364929, 'val_generator_loss': 0.41152223944664, 'val_discriminator_loss': 0.001298361923545599, 'val_feature_extractor_loss': 3.6231448650360107, 'val_feature_extractor_1_loss': 17.284547805786133, 'val_generator_PSNR_Y': 8.342458724975586, 'train_d_real_loss': 0.0060466681607067585, 'train_d_real_accuracy': 1.0, 'train_d_fake_loss': 0.01216701790690422, 'train_d_fake_accuracy': 1.0, 'train_loss': 1.1264318227767944, 'train_generator_loss': 0.59334796667099, 'train_discriminator_loss': 0.0013196063227951527, 'train_feature_extractor_loss': 4.484956741333008, 'train_feature_extractor_1_loss': 22.559907913208008, 'train_generator_PSNR_Y': 5.282268047332764}\n",
      "val_generator_PSNR_Y improved from       -inf to    8.34246\n",
      "Saving weights\n"
     ]
    }
   ],
   "metadata": {
    "colab": {
     "base_uri": "https://localhost:8080/",
     "height": 377
    },
    "colab_type": "code",
    "id": "YnvSnZUa7rA6",
    "outputId": "97aa04ea-685d-411f-f0ba-1e1b0318480b"
   }
  }
 ],
 "metadata": {
  "accelerator": "TPU",
  "colab": {
   "name": "ISR Traininig tutorial.ipynb",
   "provenance": [],
   "version": "0.3.2"
  },
  "kernelspec": {
   "name": "python3",
   "display_name": "Python 3.8.10 64-bit"
  },
  "language_info": {
   "codemirror_mode": {
    "name": "ipython",
    "version": 3
   },
   "file_extension": ".py",
   "mimetype": "text/x-python",
   "name": "python",
   "nbconvert_exporter": "python",
   "pygments_lexer": "ipython3",
   "version": "3.8.10"
  },
  "interpreter": {
   "hash": "916dbcbb3f70747c44a77c7bcd40155683ae19c65e1c03b4aa3499c5328201f1"
  }
 },
 "nbformat": 4,
 "nbformat_minor": 1
}